{
 "cells": [
  {
   "cell_type": "markdown",
   "id": "9579c95c-5199-4f75-97e4-442629c12926",
   "metadata": {},
   "source": [
    "# Use SAP AI Core to Train a Pose Estimation Nueral Network"
   ]
  },
  {
   "cell_type": "markdown",
   "id": "64056b4b-f92d-4d4e-8d52-10ab16632a7d",
   "metadata": {},
   "source": [
    "\n",
    "## Step 1\n",
    "\n",
    "Create a connection with AI Core. Use the `aicore_creds.json` provided to you and place it in the project working directory."
   ]
  },
  {
   "cell_type": "code",
   "execution_count": 1,
   "id": "d9068416",
   "metadata": {},
   "outputs": [],
   "source": [
    "import os\n",
    "import json\n",
    "\n",
    "with open('aicore_creds.json') as f:\n",
    "    ac_creds = json.load(f)\n",
    "    \n",
    "os.environ[\"AICORE_AUTH_URL\"] = f\"{ac_creds['url']}/oauth/token\"\n",
    "os.environ[\"AICORE_BASE_URL\"] = ac_creds['serviceurls']['AI_API_URL']\n",
    "os.environ[\"AICORE_CLIENT_ID\"] = ac_creds['clientid']\n",
    "os.environ[\"AICORE_CLIENT_SECRET\"] = ac_creds['clientsecret']\n",
    "os.environ[\"AICORE_RESOURCE_GROUP\"] = \"default\""
   ]
  },
  {
   "cell_type": "code",
   "execution_count": 21,
   "id": "4ce8675a-2d8e-4537-8d9f-6f26dacae72c",
   "metadata": {},
   "outputs": [],
   "source": [
    "# Load Library\n",
    "from ai_core_sdk.ai_core_v2_client import AICoreV2Client\n",
    "\n",
    "# Create Connection\n",
    "ai_core_client = AICoreV2Client(\n",
    "    base_url = os.environ[\"AICORE_BASE_URL\"] + \"/v2\", # The present SAP AI Core API version is 2\n",
    "    auth_url=  os.environ[\"AICORE_AUTH_URL\"], \n",
    "    client_id = os.environ[\"AICORE_CLIENT_ID\"],\n",
    "    client_secret = os.environ[\"AICORE_CLIENT_SECRET\"]\n",
    ")\n",
    "# no output is expected"
   ]
  },
  {
   "cell_type": "markdown",
   "id": "28e3e6a8-b9c3-4513-888d-464ba8d654c5",
   "metadata": {},
   "source": [
    "## Step 2\n",
    "\n",
    "Create a Docker account and generate a personal access token. Refer to [this](https://developers.sap.com/tutorials/ai-core-code.html#cf7b33ab-c455-47ee-a812-33a1ff587cf0) tutorial for steps. Also install Docker Desktop [here](https://www.docker.com/products/docker-desktop/)."
   ]
  },
  {
   "cell_type": "markdown",
   "id": "8a769079-c897-46fc-8c4b-b51c8ff33ce2",
   "metadata": {},
   "source": [
    "## Step 3\n",
    "\n",
    "Write the training code. You can find this is `train_movenet.py`, `model_utils.py`, and `preprocessing_utils.py`."
   ]
  },
  {
   "cell_type": "markdown",
   "id": "b95d7111-a60e-426f-b9b0-47e66bc70966",
   "metadata": {},
   "source": [
    "## Step 4\n",
    "\n",
    "Define a `Dockerfile` and ensure it successfully builds using the make target `deploy-container-service-local`. Then connect Docker to your account via `docker login docker.io`. Now upload the image to the cloud using the make target `push-docker-image`."
   ]
  },
  {
   "cell_type": "markdown",
   "id": "dcdf0093",
   "metadata": {},
   "source": [
    "## Step 5\n",
    "\n",
    "Store your Docker credentials in SAP AI Core as a Docker registry secret."
   ]
  },
  {
   "cell_type": "code",
   "execution_count": 28,
   "id": "143c710f",
   "metadata": {},
   "outputs": [],
   "source": [
    "with open('docker_creds.json') as f:\n",
    "    docker_creds = json.load(f)"
   ]
  },
  {
   "cell_type": "code",
   "execution_count": 29,
   "id": "c3a1b897",
   "metadata": {},
   "outputs": [
    {
     "name": "stdout",
     "output_type": "stream",
     "text": [
      "{'message': 'Secret exists'}\n"
     ]
    }
   ],
   "source": [
    "response = ai_core_client.docker_registry_secrets.create(\n",
    "    name = \"docker-secret\",\n",
    "    data = {\n",
    "        \".dockerconfigjson\": f'{{\\\"auths\\\":{{\\\"docker.io/amanichopra/aicore-train:tagname\\\":{{\\\"username\\\":\\\"amanichopra\\\",\\\"password\\\":\\\"{docker_creds[\"pat\"]}\\\"}}}}}}'\n",
    "    }\n",
    ")\n",
    "\n",
    "print(response.__dict__)"
   ]
  },
  {
   "cell_type": "markdown",
   "id": "6a92a7b9",
   "metadata": {},
   "source": [
    "## Step 6\n",
    "\n",
    "You need to onboard your Github Repo to AI Core."
   ]
  },
  {
   "cell_type": "code",
   "execution_count": 19,
   "id": "288fe9e7",
   "metadata": {},
   "outputs": [],
   "source": [
    "with open('gh_creds.json') as f:\n",
    "    gh_creds = json.load(f)"
   ]
  },
  {
   "cell_type": "code",
   "execution_count": 21,
   "id": "8b7e372a",
   "metadata": {},
   "outputs": [
    {
     "data": {
      "text/plain": [
       "<ai_core_sdk.models.base_models.Message at 0x108cf7ef0>"
      ]
     },
     "execution_count": 21,
     "metadata": {},
     "output_type": "execute_result"
    }
   ],
   "source": [
    "# on-board new GitHub repository\n",
    "ai_core_client.repositories.create(\n",
    "    name = \"github-repo\",\n",
    "    url = \"https://github.com/amanichopra/sap-aicore-train.git\",\n",
    "    username = \"amanichopra\",\n",
    "    password = gh_creds['pat']\n",
    ")"
   ]
  },
  {
   "cell_type": "code",
   "execution_count": 22,
   "id": "2ac5cc17",
   "metadata": {},
   "outputs": [
    {
     "name": "stdout",
     "output_type": "stream",
     "text": [
      "URL: https://github.com/amanichopra/sap-aicore-train.git\n",
      "Status: RepositoryStatus.COMPLETED\n"
     ]
    }
   ],
   "source": [
    "# check on-boarding status\n",
    "response = ai_core_client.repositories.query()\n",
    "#\n",
    "for repository in response.resources:\n",
    "#    print('Name:', repository.name)\n",
    "    print('URL:', repository.url)\n",
    "    print('Status:', repository.status)"
   ]
  },
  {
   "cell_type": "markdown",
   "id": "c78e9448",
   "metadata": {},
   "source": [
    "## Step 7\n",
    "\n",
    "Create an application to sync the training workflow with AI Core."
   ]
  },
  {
   "cell_type": "code",
   "execution_count": 7,
   "id": "f68124a5",
   "metadata": {},
   "outputs": [
    {
     "data": {
      "text/plain": [
       "<ai_api_client_sdk.models.base_models.BasicResponse at 0x123a4b980>"
      ]
     },
     "execution_count": 7,
     "metadata": {},
     "output_type": "execute_result"
    }
   ],
   "source": [
    "ai_core_client.applications.create(\n",
    "    application_name = \"training-app\",\n",
    "    repository_url = \"https://github.com/amanichopra/sap-aicore-train.git\",\n",
    "    path = \"./\",\n",
    "    revision = \"HEAD\"\n",
    ")"
   ]
  },
  {
   "cell_type": "code",
   "execution_count": 8,
   "id": "d0d33271",
   "metadata": {},
   "outputs": [
    {
     "name": "stdout",
     "output_type": "stream",
     "text": [
      "{'path': './', 'revision': 'HEAD', 'repository_url': 'https://github.com/amanichopra/sap-aicore-train.git', 'application_name': 'training-app'}\n"
     ]
    }
   ],
   "source": [
    "response = ai_core_client.applications.query()\n",
    "\n",
    "for app in response.resources:\n",
    "    print(app.__dict__)"
   ]
  },
  {
   "cell_type": "markdown",
   "id": "795c462b",
   "metadata": {},
   "source": [
    "## Step 8\n",
    "\n",
    "Store S3 object store secrets in AI Core."
   ]
  },
  {
   "cell_type": "code",
   "execution_count": 25,
   "id": "d0abf6f6",
   "metadata": {},
   "outputs": [],
   "source": [
    "with open('s3_creds.json') as f:\n",
    "    s3_creds = json.load(f)"
   ]
  },
  {
   "cell_type": "code",
   "execution_count": 26,
   "id": "56cdf72e",
   "metadata": {},
   "outputs": [
    {
     "name": "stdout",
     "output_type": "stream",
     "text": [
      "{'message': 'Secret exists'}\n"
     ]
    }
   ],
   "source": [
    "# Create object Store secret\n",
    "response = ai_core_client.object_store_secrets.create(\n",
    "    name = \"s3-secret\", # identifier for this secret within your SAP AI Core\n",
    "    path_prefix = \"data\", # path that we want to limit restrict this secret access to\n",
    "    type = \"S3\",\n",
    "    data = { # Dictionary of credentials of AWS\n",
    "        \"AWS_ACCESS_KEY_ID\": s3_creds['access_key_id'],\n",
    "        \"AWS_SECRET_ACCESS_KEY\": s3_creds['secret_access_key']\n",
    "    },\n",
    "    bucket = \"hcp-c1a2d095-b523-400a-bf19-94eda5e8d109\", # Edit this\n",
    "    region = \"eu-central-1\", # Edit this\n",
    "    endpoint = \"s3-eu-central-1.amazonaws.com\", # Edit this\n",
    "    resource_group = \"default\" # object store secret are restricted within this resource group. you may change this when creating secret for another resource group.\n",
    ")\n",
    "print(response.__dict__)"
   ]
  },
  {
   "cell_type": "code",
   "execution_count": 27,
   "id": "a9e7a8a4",
   "metadata": {},
   "outputs": [
    {
     "name": "stdout",
     "output_type": "stream",
     "text": [
      "{'message': 'Secret exists'}\n"
     ]
    }
   ],
   "source": [
    "# Create object Store secret\n",
    "response = ai_core_client.object_store_secrets.create(\n",
    "    name = \"default\", # identifier for this secret within your SAP AI Core\n",
    "    path_prefix = \"model\", # path that we want to limit restrict this secret access to\n",
    "    type = \"S3\",\n",
    "    data = { # Dictionary of credentials of AWS\n",
    "        \"AWS_ACCESS_KEY_ID\": s3_creds['access_key_id'],\n",
    "        \"AWS_SECRET_ACCESS_KEY\": s3_creds['secret_access_key']\n",
    "    },\n",
    "    bucket = \"hcp-c1a2d095-b523-400a-bf19-94eda5e8d109\", # Edit this\n",
    "    region = \"eu-central-1\", # Edit this\n",
    "    endpoint = \"s3-eu-central-1.amazonaws.com\", # Edit this\n",
    "    resource_group = \"default\" # object store secret are restricted within this resource group. you may change this when creating secret for another resource group.\n",
    ")\n",
    "print(response.__dict__)"
   ]
  },
  {
   "cell_type": "markdown",
   "id": "f8648deb",
   "metadata": {},
   "source": [
    "## Step 9\n",
    "\n",
    "Register the dataset."
   ]
  },
  {
   "cell_type": "code",
   "execution_count": 16,
   "id": "58ed05a4",
   "metadata": {},
   "outputs": [
    {
     "name": "stdout",
     "output_type": "stream",
     "text": [
      "{'id': '3611f615-d041-4db0-8e1a-70e2784bd6bd', 'message': 'Artifact acknowledged', 'url': 'ai://s3-secret/'}\n"
     ]
    }
   ],
   "source": [
    "# Create Artifact\n",
    "from ai_api_client_sdk.models.artifact import Artifact\n",
    "\n",
    "response = ai_core_client.artifact.create(\n",
    "    name = \"pose_training_data\", # Custom Non-unqiue identifier\n",
    "    kind = Artifact.Kind.DATASET,\n",
    "    url = \"ai://s3-secret/\", #\n",
    "    scenario_id = \"train-demo\",\n",
    "    description = \"Pose embedding data\",\n",
    "    resource_group = \"default\" # required to restrict object store secret usage within a resource group\n",
    ")\n",
    "\n",
    "print(response.__dict__)"
   ]
  },
  {
   "cell_type": "markdown",
   "id": "55470b8c-f268-4e98-a73b-66e7be32277c",
   "metadata": {},
   "source": [
    "## Step 10\n",
    "\n",
    "Define your workflow using [Argo](https://argo-workflows.readthedocs.io/en/latest/workflow-templates/) workflow templates. This is defined at `train_pipeline.yaml`.\n"
   ]
  },
  {
   "cell_type": "markdown",
   "id": "f2420023-c0f6-49cd-8026-e9059ac8beee",
   "metadata": {},
   "source": [
    "## Step 11\n",
    "\n",
    "Check the sync status of your workflow. You should see a successful sync in the response."
   ]
  },
  {
   "cell_type": "code",
   "execution_count": 9,
   "id": "cb74c25d-b2b1-4fa1-9f8f-2a98ff153150",
   "metadata": {},
   "outputs": [
    {
     "name": "stdout",
     "output_type": "stream",
     "text": [
      "successfully synced (all tasks run)\n",
      "{'name': 'aicore-train-pipeline', 'kind': 'WorkflowTemplate', 'status': 'Synced', 'message': 'workflowtemplate.argoproj.io/aicore-train-pipeline created'}\n"
     ]
    }
   ],
   "source": [
    "# Get application status\n",
    "response = ai_core_client.applications.get_status(application_name='training-app')\n",
    "\n",
    "print(response.message)\n",
    "for sync_status in response.sync_ressources_status:\n",
    "    print(sync_status.__dict__)"
   ]
  },
  {
   "cell_type": "markdown",
   "id": "84cf2eed",
   "metadata": {},
   "source": [
    "## Step 12\n",
    "\n",
    "Ensure you can see the executable defined in the workflow template for this scenario."
   ]
  },
  {
   "cell_type": "code",
   "execution_count": 12,
   "id": "339494e0-cf2c-4626-a2ca-60af28afc105",
   "metadata": {},
   "outputs": [
    {
     "name": "stdout",
     "output_type": "stream",
     "text": [
      "{'id': 'aicore-train-pipeline', 'scenario_id': 'train-demo', 'version_id': '2.0', 'name': 'training', 'description': 'Train pose detection model with live data', 'deployable': False, 'parameters': [<ai_api_client_sdk.models.parameter.Parameter object at 0x124a2f890>, <ai_api_client_sdk.models.parameter.Parameter object at 0x124a2ed50>, <ai_api_client_sdk.models.parameter.Parameter object at 0x124a2f770>, <ai_api_client_sdk.models.parameter.Parameter object at 0x124a2f530>, <ai_api_client_sdk.models.parameter.Parameter object at 0x124a2ff20>, <ai_api_client_sdk.models.parameter.Parameter object at 0x124a0ac90>], 'input_artifacts': [<ai_api_client_sdk.models.input_artifact.InputArtifact object at 0x1247a63c0>], 'output_artifacts': [<ai_api_client_sdk.models.output_artifact.OutputArtifact object at 0x123d7c0e0>], 'labels': None, 'created_at': datetime.datetime(2024, 11, 26, 22, 36, 30, tzinfo=datetime.timezone.utc), 'modified_at': datetime.datetime(2024, 11, 26, 22, 36, 30, tzinfo=datetime.timezone.utc)}\n"
     ]
    }
   ],
   "source": [
    "# List available executables\n",
    "response = ai_core_client.executable.query(\n",
    "    scenario_id = \"train-demo\", resource_group='default'\n",
    ")\n",
    "\n",
    "for executable in response.resources:\n",
    "    print(executable.__dict__)\n"
   ]
  },
  {
   "cell_type": "markdown",
   "id": "3d2adf98",
   "metadata": {},
   "source": [
    "## Step 13\n",
    "\n",
    "Create a configuration for the training workflow."
   ]
  },
  {
   "cell_type": "code",
   "execution_count": 28,
   "id": "f3e7f0eb-05d4-4c61-893b-567ab4db6b57",
   "metadata": {},
   "outputs": [
    {
     "ename": "TypeError",
     "evalue": "KeyValue.__init__() missing 1 required positional argument: 'value'",
     "output_type": "error",
     "traceback": [
      "\u001b[0;31m---------------------------------------------------------------------------\u001b[0m",
      "\u001b[0;31mTypeError\u001b[0m                                 Traceback (most recent call last)",
      "Cell \u001b[0;32mIn[28], line 10\u001b[0m\n\u001b[1;32m      2\u001b[0m \u001b[38;5;28;01mfrom\u001b[39;00m \u001b[38;5;21;01mai_api_client_sdk\u001b[39;00m\u001b[38;5;21;01m.\u001b[39;00m\u001b[38;5;21;01mmodels\u001b[39;00m\u001b[38;5;21;01m.\u001b[39;00m\u001b[38;5;21;01mparameter_binding\u001b[39;00m \u001b[38;5;28;01mimport\u001b[39;00m ParameterBinding\n\u001b[1;32m      3\u001b[0m \u001b[38;5;28;01mfrom\u001b[39;00m \u001b[38;5;21;01mai_api_client_sdk\u001b[39;00m\u001b[38;5;21;01m.\u001b[39;00m\u001b[38;5;21;01mmodels\u001b[39;00m\u001b[38;5;21;01m.\u001b[39;00m\u001b[38;5;21;01mbase_models\u001b[39;00m \u001b[38;5;28;01mimport\u001b[39;00m KeyValue\n\u001b[1;32m      5\u001b[0m response \u001b[38;5;241m=\u001b[39m ai_core_client\u001b[38;5;241m.\u001b[39mconfiguration\u001b[38;5;241m.\u001b[39mcreate(\n\u001b[1;32m      6\u001b[0m     name \u001b[38;5;241m=\u001b[39m \u001b[38;5;124m\"\u001b[39m\u001b[38;5;124mpose-detection-training-configuration\u001b[39m\u001b[38;5;124m\"\u001b[39m,\n\u001b[1;32m      7\u001b[0m     scenario_id \u001b[38;5;241m=\u001b[39m \u001b[38;5;124m\"\u001b[39m\u001b[38;5;124mtrain-demo\u001b[39m\u001b[38;5;124m\"\u001b[39m,\n\u001b[1;32m      8\u001b[0m     executable_id \u001b[38;5;241m=\u001b[39m \u001b[38;5;124m\"\u001b[39m\u001b[38;5;124maicore-train-pipeline\u001b[39m\u001b[38;5;124m\"\u001b[39m,\n\u001b[1;32m      9\u001b[0m     resource_group \u001b[38;5;241m=\u001b[39m \u001b[38;5;124m\"\u001b[39m\u001b[38;5;124mdefault\u001b[39m\u001b[38;5;124m\"\u001b[39m,\n\u001b[0;32m---> 10\u001b[0m     parameter_bindings\u001b[38;5;241m=\u001b[39m[\u001b[43mParameterBinding\u001b[49m\u001b[43m(\u001b[49m\u001b[43mKeyValue\u001b[49m\u001b[43m(\u001b[49m\u001b[43mkey\u001b[49m\u001b[38;5;241;43m=\u001b[39;49m\u001b[38;5;124;43m'\u001b[39;49m\u001b[38;5;124;43mDL\u001b[39;49m\u001b[38;5;124;43m'\u001b[39;49m\u001b[43m,\u001b[49m\u001b[43m \u001b[49m\u001b[43mvalue\u001b[49m\u001b[38;5;241;43m=\u001b[39;49m\u001b[38;5;124;43m'\u001b[39;49m\u001b[38;5;124;43m5\u001b[39;49m\u001b[38;5;124;43m'\u001b[39;49m\u001b[43m)\u001b[49m\u001b[43m)\u001b[49m]\n\u001b[1;32m     11\u001b[0m )\n\u001b[1;32m     12\u001b[0m \u001b[38;5;28mprint\u001b[39m(response\u001b[38;5;241m.\u001b[39m\u001b[38;5;18m__dict__\u001b[39m)\n",
      "\u001b[0;31mTypeError\u001b[0m: KeyValue.__init__() missing 1 required positional argument: 'value'"
     ]
    }
   ],
   "source": [
    "# Create configuration\n",
    "from ai_api_client_sdk.models.parameter_binding import ParameterBinding\n",
    "from ai_api_client_sdk.models.base_models import KeyValue\n",
    "\n",
    "response = ai_core_client.configuration.create(\n",
    "    name = \"pose-detection-training-configuration\",\n",
    "    scenario_id = \"train-demo\",\n",
    "    executable_id = \"aicore-train-pipeline\",\n",
    "    resource_group = \"default\",\n",
    "    parameter_bindings=[ParameterBinding(KeyValue(key='DL', value='5'))]\n",
    ")\n",
    "print(response.__dict__)\n"
   ]
  },
  {
   "cell_type": "code",
   "execution_count": null,
   "id": "1d4d2745-429a-47e1-bd7b-d402e406c8fe",
   "metadata": {},
   "outputs": [],
   "source": [
    "# Create and start execution\n",
    "response = ai_core_client.execution.create(\n",
    "    configuration_id = '<YOUR_CONFIGURATION_ID>',\n",
    "    resource_group = 'default'\n",
    ")\n",
    "\n",
    "response.__dict__"
   ]
  },
  {
   "cell_type": "code",
   "execution_count": null,
   "id": "e454dfc6-f733-4c72-9883-bbd3f47a7ca2",
   "metadata": {},
   "outputs": [],
   "source": [
    "# Get execution status from SAP AI Core\n",
    "# execute this multiple times in interval of 30 seconds\n",
    "response = ai_core_client.execution.get(\n",
    "    execution_id = '<YOUR_EXECUTION_ID', # Change this\n",
    "    resource_group = 'default'\n",
    ")\n",
    "\n",
    "response.__dict__\n"
   ]
  },
  {
   "cell_type": "markdown",
   "id": "2e419e7d-ad94-4e59-9fe4-9e4cfd04d8e9",
   "metadata": {},
   "source": [
    "- should end up with **Status: DEAD**"
   ]
  },
  {
   "cell_type": "markdown",
   "id": "dea7ad1e-f05c-4c4e-86df-23f6d0065c17",
   "metadata": {},
   "source": [
    "## Step 11 Look for error logs in execution\n"
   ]
  },
  {
   "cell_type": "code",
   "execution_count": null,
   "id": "56b12e4b-d954-4fb9-8763-7c5e22a0e421",
   "metadata": {},
   "outputs": [],
   "source": [
    "# get execution logs\n",
    "response = ai_core_client.execution.query_logs(\n",
    "    execution_id = '<YOUR_EXECUTION_ID>',\n",
    "    resource_group = 'default',\n",
    "    start = datetime(1990, 1, 1) # Optional, required when execution is older than one hour\n",
    ")\n",
    "\n",
    "for log in response.data.result:\n",
    "    print(log.__dict__)\n"
   ]
  },
  {
   "cell_type": "markdown",
   "id": "12709765-5b8b-462a-b8fc-5526ce7e9936",
   "metadata": {},
   "source": [
    "## Step 12: Fix and update code\n",
    "\n",
    "*Refer step 12 of the tutorial: https://developers.sap.com/tutorials/ai-core-code.html#d3cdbc12-922d-48b2-a197-44f0d8fbd867*\n",
    "\n",
    "## Step 13: Update your AI workflow\n",
    "\n",
    "*Refer step 13 of the tutorial: https://developers.sap.com/tutorials/ai-core-code.html#3fedf413-00e5-4554-85bc-06130758678a*\n",
    "\n",
    "## Step 14: Create Execution"
   ]
  },
  {
   "cell_type": "code",
   "execution_count": null,
   "id": "b3313d73-5f50-49ad-aae9-db4e7eb4f365",
   "metadata": {},
   "outputs": [],
   "source": [
    "# Create execution\n",
    "response = ai_core_client.executable.query(\n",
    "    scenario_id = \"learning-code\", resource_group='default'\n",
    ")\n",
    "\n",
    "for executable in response.resources:\n",
    "    print(executable.__dict__)\n"
   ]
  },
  {
   "cell_type": "code",
   "execution_count": null,
   "id": "73e6d7e7-a1ff-4216-82a3-0581c739ea31",
   "metadata": {},
   "outputs": [],
   "source": [
    "# Get execution status from SAP AI Core\n",
    "# execute this multiple times in interval of 30 seconds\n",
    "response = ai_core_client.execution.get(\n",
    "    execution_id = '<YOUR_EXECUTION_ID', # Change this\n",
    "    resource_group = 'default'\n",
    ")\n",
    "\n",
    "response.__dict__\n"
   ]
  },
  {
   "cell_type": "markdown",
   "id": "eac90225-b360-450c-8f76-4a29a00561ee",
   "metadata": {},
   "source": [
    "- should show **Status: COMPLETED**"
   ]
  },
  {
   "cell_type": "code",
   "execution_count": null,
   "id": "c2a4d7ae-8211-4926-8968-0d1d98414826",
   "metadata": {},
   "outputs": [],
   "source": [
    "# Get Execution Logs\n",
    "response = ai_core_client.execution.query_logs(\n",
    "    execution_id = '<YOUR_EXECUTION_ID>',\n",
    "    resource_group = 'default'\n",
    ")\n",
    "\n",
    "for log in response.data.result:\n",
    "    print(log.__dict__)\n"
   ]
  }
 ],
 "metadata": {
  "kernelspec": {
   "display_name": "Python 3 (ipykernel)",
   "language": "python",
   "name": "python3"
  },
  "language_info": {
   "codemirror_mode": {
    "name": "ipython",
    "version": 3
   },
   "file_extension": ".py",
   "mimetype": "text/x-python",
   "name": "python",
   "nbconvert_exporter": "python",
   "pygments_lexer": "ipython3",
   "version": "3.12.3"
  }
 },
 "nbformat": 4,
 "nbformat_minor": 5
}
