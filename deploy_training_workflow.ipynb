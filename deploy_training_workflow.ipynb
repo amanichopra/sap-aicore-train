{
 "cells": [
  {
   "cell_type": "markdown",
   "id": "9579c95c-5199-4f75-97e4-442629c12926",
   "metadata": {},
   "source": [
    "# Use SAP AI Core to Train a Pose Estimation Nueral Network"
   ]
  },
  {
   "cell_type": "markdown",
   "id": "64056b4b-f92d-4d4e-8d52-10ab16632a7d",
   "metadata": {},
   "source": [
    "\n",
    "## Step 1\n",
    "\n",
    "Create a connection with AI Core. Use the `aicore_creds.json` provided to you and place it in the project working directory."
   ]
  },
  {
   "cell_type": "code",
   "execution_count": 1,
   "id": "d9068416",
   "metadata": {},
   "outputs": [],
   "source": [
    "import os\n",
    "import json\n",
    "\n",
    "with open('aicore_creds.json') as f:\n",
    "    ac_creds = json.load(f)\n",
    "    \n",
    "os.environ[\"AICORE_AUTH_URL\"] = f\"{ac_creds['url']}/oauth/token\"\n",
    "os.environ[\"AICORE_BASE_URL\"] = ac_creds['serviceurls']['AI_API_URL']\n",
    "os.environ[\"AICORE_CLIENT_ID\"] = ac_creds['clientid']\n",
    "os.environ[\"AICORE_CLIENT_SECRET\"] = ac_creds['clientsecret']\n",
    "os.environ[\"AICORE_RESOURCE_GROUP\"] = \"default\""
   ]
  },
  {
   "cell_type": "code",
   "execution_count": 2,
   "id": "4ce8675a-2d8e-4537-8d9f-6f26dacae72c",
   "metadata": {},
   "outputs": [],
   "source": [
    "# Load Library\n",
    "from ai_core_sdk.ai_core_v2_client import AICoreV2Client\n",
    "\n",
    "# Create Connection\n",
    "ai_core_client = AICoreV2Client(\n",
    "    base_url = os.environ[\"AICORE_BASE_URL\"] + \"/v2\", # The present SAP AI Core API version is 2\n",
    "    auth_url=  os.environ[\"AICORE_AUTH_URL\"], \n",
    "    client_id = os.environ[\"AICORE_CLIENT_ID\"],\n",
    "    client_secret = os.environ[\"AICORE_CLIENT_SECRET\"]\n",
    ")\n",
    "# no output is expected"
   ]
  },
  {
   "cell_type": "markdown",
   "id": "28e3e6a8-b9c3-4513-888d-464ba8d654c5",
   "metadata": {},
   "source": [
    "## Step 2\n",
    "\n",
    "Create a Docker account and generate a personal access token. Refer to [this](https://developers.sap.com/tutorials/ai-core-code.html#cf7b33ab-c455-47ee-a812-33a1ff587cf0) tutorial for steps. Also install Docker Desktop [here](https://www.docker.com/products/docker-desktop/)."
   ]
  },
  {
   "cell_type": "markdown",
   "id": "8a769079-c897-46fc-8c4b-b51c8ff33ce2",
   "metadata": {},
   "source": [
    "## Step 3\n",
    "\n",
    "Write the training code. You can find this is `train_movenet.py`, `model_utils.py`, and `preprocessing_utils.py`."
   ]
  },
  {
   "cell_type": "markdown",
   "id": "b95d7111-a60e-426f-b9b0-47e66bc70966",
   "metadata": {},
   "source": [
    "## Step 4\n",
    "\n",
    "Define a `Dockerfile` and ensure it successfully builds using the make target `deploy-container-service-local`. Then connect Docker to your account via `docker login docker.io`. Now upload the image to the cloud using the make target `push-docker-image`."
   ]
  },
  {
   "cell_type": "markdown",
   "id": "dcdf0093",
   "metadata": {},
   "source": [
    "## Step 5\n",
    "\n",
    "Store your Docker credentials in SAP AI Core as a Docker registry secret."
   ]
  },
  {
   "cell_type": "code",
   "execution_count": 3,
   "id": "143c710f",
   "metadata": {},
   "outputs": [],
   "source": [
    "with open('docker_creds.json') as f:\n",
    "    docker_creds = json.load(f)"
   ]
  },
  {
   "cell_type": "code",
   "execution_count": 4,
   "id": "c3a1b897",
   "metadata": {},
   "outputs": [
    {
     "name": "stdout",
     "output_type": "stream",
     "text": [
      "{'message': 'secret has been created'}\n"
     ]
    }
   ],
   "source": [
    "response = ai_core_client.docker_registry_secrets.create(\n",
    "    name = \"docker-secret\",\n",
    "    data = {\n",
    "        \".dockerconfigjson\": f'{{\\\"auths\\\":{{\\\"docker.io/amanichopra/aicore-train:tagname\\\":{{\\\"username\\\":\\\"amanichopra\\\",\\\"password\\\":\\\"{docker_creds[\"pat\"]}\\\"}}}}}}'\n",
    "    }\n",
    ")\n",
    "\n",
    "print(response.__dict__)"
   ]
  },
  {
   "cell_type": "markdown",
   "id": "6a92a7b9",
   "metadata": {},
   "source": [
    "## Step 6\n",
    "\n",
    "You need to onboard your Github Repo to AI Core."
   ]
  },
  {
   "cell_type": "code",
   "execution_count": 5,
   "id": "288fe9e7",
   "metadata": {},
   "outputs": [],
   "source": [
    "with open('gh_creds.json') as f:\n",
    "    gh_creds = json.load(f)"
   ]
  },
  {
   "cell_type": "code",
   "execution_count": 6,
   "id": "8b7e372a",
   "metadata": {},
   "outputs": [
    {
     "data": {
      "text/plain": [
       "<ai_core_sdk.models.base_models.Message at 0x113a55a30>"
      ]
     },
     "execution_count": 6,
     "metadata": {},
     "output_type": "execute_result"
    }
   ],
   "source": [
    "# on-board new GitHub repository\n",
    "ai_core_client.repositories.create(\n",
    "    name = \"gh-repo\",\n",
    "    url = \"https://github.com/amanichopra/sap-aicore-train.git\",\n",
    "    username = \"amanichopra\",\n",
    "    password = gh_creds['pat']\n",
    ")"
   ]
  },
  {
   "cell_type": "code",
   "execution_count": 7,
   "id": "2ac5cc17",
   "metadata": {},
   "outputs": [
    {
     "name": "stdout",
     "output_type": "stream",
     "text": [
      "URL: https://github.com/amanichopra/sap-aicore-train.git\n",
      "Status: RepositoryStatus.COMPLETED\n"
     ]
    }
   ],
   "source": [
    "# check on-boarding status\n",
    "response = ai_core_client.repositories.query()\n",
    "#\n",
    "for repository in response.resources:\n",
    "#    print('Name:', repository.name)\n",
    "    print('URL:', repository.url)\n",
    "    print('Status:', repository.status)"
   ]
  },
  {
   "cell_type": "markdown",
   "id": "c78e9448",
   "metadata": {},
   "source": [
    "## Step 7\n",
    "\n",
    "Create an application to sync the training workflow with AI Core."
   ]
  },
  {
   "cell_type": "code",
   "execution_count": 20,
   "id": "f68124a5",
   "metadata": {},
   "outputs": [
    {
     "data": {
      "text/plain": [
       "<ai_api_client_sdk.models.base_models.BasicResponse at 0x114012fc0>"
      ]
     },
     "execution_count": 20,
     "metadata": {},
     "output_type": "execute_result"
    }
   ],
   "source": [
    "ai_core_client.applications.create(\n",
    "    application_name = \"training-app\",\n",
    "    repository_url = \"https://github.com/amanichopra/sap-aicore-train.git\",\n",
    "    path = \"./\",\n",
    "    revision = \"HEAD\"\n",
    ")"
   ]
  },
  {
   "cell_type": "code",
   "execution_count": 21,
   "id": "d0d33271",
   "metadata": {},
   "outputs": [
    {
     "name": "stdout",
     "output_type": "stream",
     "text": [
      "{'path': '.', 'revision': 'HEAD', 'repository_url': 'https://github.com/amanichopra/sap-aicore-train.git', 'application_name': 'training-app'}\n"
     ]
    }
   ],
   "source": [
    "response = ai_core_client.applications.query()\n",
    "\n",
    "for app in response.resources:\n",
    "    print(app.__dict__)"
   ]
  },
  {
   "cell_type": "markdown",
   "id": "795c462b",
   "metadata": {},
   "source": [
    "## Step 8\n",
    "\n",
    "Store S3 object store secrets in AI Core."
   ]
  },
  {
   "cell_type": "code",
   "execution_count": 10,
   "id": "d0abf6f6",
   "metadata": {},
   "outputs": [],
   "source": [
    "with open('s3_creds.json') as f:\n",
    "    s3_creds = json.load(f)"
   ]
  },
  {
   "cell_type": "code",
   "execution_count": 11,
   "id": "56cdf72e",
   "metadata": {},
   "outputs": [
    {
     "name": "stdout",
     "output_type": "stream",
     "text": [
      "{'message': 'secret has been created'}\n"
     ]
    }
   ],
   "source": [
    "# Create object Store secret\n",
    "response = ai_core_client.object_store_secrets.create(\n",
    "    name = \"s3-secret\", # identifier for this secret within your SAP AI Core\n",
    "    path_prefix = \"data\", # path that we want to limit restrict this secret access to\n",
    "    type = \"S3\",\n",
    "    data = { # Dictionary of credentials of AWS\n",
    "        \"AWS_ACCESS_KEY_ID\": s3_creds['access_key_id'],\n",
    "        \"AWS_SECRET_ACCESS_KEY\": s3_creds['secret_access_key']\n",
    "    },\n",
    "    bucket = \"hcp-c1a2d095-b523-400a-bf19-94eda5e8d109\", # Edit this\n",
    "    region = \"eu-central-1\", # Edit this\n",
    "    endpoint = \"s3-eu-central-1.amazonaws.com\", # Edit this\n",
    "    resource_group = \"default\" # object store secret are restricted within this resource group. you may change this when creating secret for another resource group.\n",
    ")\n",
    "print(response.__dict__)"
   ]
  },
  {
   "cell_type": "code",
   "execution_count": 12,
   "id": "a9e7a8a4",
   "metadata": {},
   "outputs": [
    {
     "name": "stdout",
     "output_type": "stream",
     "text": [
      "{'message': 'secret has been created'}\n"
     ]
    }
   ],
   "source": [
    "# Create object Store secret\n",
    "response = ai_core_client.object_store_secrets.create(\n",
    "    name = \"default\", # identifier for this secret within your SAP AI Core\n",
    "    path_prefix = \"model\", # path that we want to limit restrict this secret access to\n",
    "    type = \"S3\",\n",
    "    data = { # Dictionary of credentials of AWS\n",
    "        \"AWS_ACCESS_KEY_ID\": s3_creds['access_key_id'],\n",
    "        \"AWS_SECRET_ACCESS_KEY\": s3_creds['secret_access_key']\n",
    "    },\n",
    "    bucket = s3_creds['bucket'], # Edit this\n",
    "    region = s3_creds['region'], # Edit this\n",
    "    endpoint = s3_creds['host'], # Edit this\n",
    "    resource_group = \"default\" # object store secret are restricted within this resource group. you may change this when creating secret for another resource group.\n",
    ")\n",
    "print(response.__dict__)"
   ]
  },
  {
   "cell_type": "markdown",
   "id": "f8648deb",
   "metadata": {},
   "source": [
    "## Step 9\n",
    "\n",
    "Register the dataset."
   ]
  },
  {
   "cell_type": "code",
   "execution_count": 16,
   "id": "58ed05a4",
   "metadata": {},
   "outputs": [
    {
     "ename": "AIAPIInvalidRequestException",
     "evalue": "Failed to post /artifacts: Invalid Request, Could not create Artifact due to invalid Scenario ID train-demo. Please check the Scenario ID. \n Status Code: 400, Request ID:c9bbe234-0e4c-4375-8f26-bea88db9717f",
     "output_type": "error",
     "traceback": [
      "\u001b[0;31m---------------------------------------------------------------------------\u001b[0m",
      "\u001b[0;31mAIAPIInvalidRequestException\u001b[0m              Traceback (most recent call last)",
      "Cell \u001b[0;32mIn[16], line 4\u001b[0m\n\u001b[1;32m      1\u001b[0m \u001b[38;5;66;03m# Create Artifact\u001b[39;00m\n\u001b[1;32m      2\u001b[0m \u001b[38;5;28;01mfrom\u001b[39;00m \u001b[38;5;21;01mai_api_client_sdk\u001b[39;00m\u001b[38;5;21;01m.\u001b[39;00m\u001b[38;5;21;01mmodels\u001b[39;00m\u001b[38;5;21;01m.\u001b[39;00m\u001b[38;5;21;01martifact\u001b[39;00m \u001b[38;5;28;01mimport\u001b[39;00m Artifact\n\u001b[0;32m----> 4\u001b[0m response \u001b[38;5;241m=\u001b[39m \u001b[43mai_core_client\u001b[49m\u001b[38;5;241;43m.\u001b[39;49m\u001b[43martifact\u001b[49m\u001b[38;5;241;43m.\u001b[39;49m\u001b[43mcreate\u001b[49m\u001b[43m(\u001b[49m\n\u001b[1;32m      5\u001b[0m \u001b[43m    \u001b[49m\u001b[43mname\u001b[49m\u001b[43m \u001b[49m\u001b[38;5;241;43m=\u001b[39;49m\u001b[43m \u001b[49m\u001b[38;5;124;43m\"\u001b[39;49m\u001b[38;5;124;43mpose_training_data\u001b[39;49m\u001b[38;5;124;43m\"\u001b[39;49m\u001b[43m,\u001b[49m\u001b[43m \u001b[49m\u001b[38;5;66;43;03m# Custom Non-unqiue identifier\u001b[39;49;00m\n\u001b[1;32m      6\u001b[0m \u001b[43m    \u001b[49m\u001b[43mkind\u001b[49m\u001b[43m \u001b[49m\u001b[38;5;241;43m=\u001b[39;49m\u001b[43m \u001b[49m\u001b[43mArtifact\u001b[49m\u001b[38;5;241;43m.\u001b[39;49m\u001b[43mKind\u001b[49m\u001b[38;5;241;43m.\u001b[39;49m\u001b[43mDATASET\u001b[49m\u001b[43m,\u001b[49m\n\u001b[1;32m      7\u001b[0m \u001b[43m    \u001b[49m\u001b[43murl\u001b[49m\u001b[43m \u001b[49m\u001b[38;5;241;43m=\u001b[39;49m\u001b[43m \u001b[49m\u001b[38;5;124;43m\"\u001b[39;49m\u001b[38;5;124;43mai://s3-secret/\u001b[39;49m\u001b[38;5;124;43m\"\u001b[39;49m\u001b[43m,\u001b[49m\u001b[43m \u001b[49m\u001b[38;5;66;43;03m#\u001b[39;49;00m\n\u001b[1;32m      8\u001b[0m \u001b[43m    \u001b[49m\u001b[43mscenario_id\u001b[49m\u001b[43m \u001b[49m\u001b[38;5;241;43m=\u001b[39;49m\u001b[43m \u001b[49m\u001b[38;5;124;43m\"\u001b[39;49m\u001b[38;5;124;43mtrain-demo\u001b[39;49m\u001b[38;5;124;43m\"\u001b[39;49m\u001b[43m,\u001b[49m\n\u001b[1;32m      9\u001b[0m \u001b[43m    \u001b[49m\u001b[43mdescription\u001b[49m\u001b[43m \u001b[49m\u001b[38;5;241;43m=\u001b[39;49m\u001b[43m \u001b[49m\u001b[38;5;124;43m\"\u001b[39;49m\u001b[38;5;124;43mPose embedding data\u001b[39;49m\u001b[38;5;124;43m\"\u001b[39;49m\u001b[43m,\u001b[49m\n\u001b[1;32m     10\u001b[0m \u001b[43m    \u001b[49m\u001b[43mresource_group\u001b[49m\u001b[43m \u001b[49m\u001b[38;5;241;43m=\u001b[39;49m\u001b[43m \u001b[49m\u001b[38;5;124;43m\"\u001b[39;49m\u001b[38;5;124;43mdefault\u001b[39;49m\u001b[38;5;124;43m\"\u001b[39;49m\u001b[43m \u001b[49m\u001b[38;5;66;43;03m# required to restrict object store secret usage within a resource group\u001b[39;49;00m\n\u001b[1;32m     11\u001b[0m \u001b[43m)\u001b[49m\n\u001b[1;32m     13\u001b[0m artifact \u001b[38;5;241m=\u001b[39m response\u001b[38;5;241m.\u001b[39m\u001b[38;5;18m__dict__\u001b[39m\n\u001b[1;32m     14\u001b[0m artifact\n",
      "File \u001b[0;32m~/Library/CloudStorage/OneDrive-SAPSE/teched/engineering_academy/aicore/.venv/lib/python3.12/site-packages/ai_api_client_sdk/resource_clients/artifact_client.py:54\u001b[0m, in \u001b[0;36mArtifactClient.create\u001b[0;34m(self, name, kind, url, scenario_id, description, labels, resource_group)\u001b[0m\n\u001b[1;32m     52\u001b[0m \u001b[38;5;28;01mif\u001b[39;00m labels:\n\u001b[1;32m     53\u001b[0m     body[\u001b[38;5;124m'\u001b[39m\u001b[38;5;124mlabels\u001b[39m\u001b[38;5;124m'\u001b[39m] \u001b[38;5;241m=\u001b[39m [l\u001b[38;5;241m.\u001b[39mto_dict() \u001b[38;5;28;01mfor\u001b[39;00m l \u001b[38;5;129;01min\u001b[39;00m labels]\n\u001b[0;32m---> 54\u001b[0m response_dict \u001b[38;5;241m=\u001b[39m \u001b[38;5;28;43mself\u001b[39;49m\u001b[38;5;241;43m.\u001b[39;49m\u001b[43mrest_client\u001b[49m\u001b[38;5;241;43m.\u001b[39;49m\u001b[43mpost\u001b[49m\u001b[43m(\u001b[49m\u001b[43mpath\u001b[49m\u001b[38;5;241;43m=\u001b[39;49m\u001b[38;5;124;43m'\u001b[39;49m\u001b[38;5;124;43m/artifacts\u001b[39;49m\u001b[38;5;124;43m'\u001b[39;49m\u001b[43m,\u001b[49m\u001b[43m \u001b[49m\u001b[43mbody\u001b[49m\u001b[38;5;241;43m=\u001b[39;49m\u001b[43mbody\u001b[49m\u001b[43m,\u001b[49m\u001b[43m \u001b[49m\u001b[43mresource_group\u001b[49m\u001b[38;5;241;43m=\u001b[39;49m\u001b[43mresource_group\u001b[49m\u001b[43m)\u001b[49m\n\u001b[1;32m     55\u001b[0m \u001b[38;5;28;01mreturn\u001b[39;00m ArtifactCreateResponse\u001b[38;5;241m.\u001b[39mfrom_dict(response_dict)\n",
      "File \u001b[0;32m~/Library/CloudStorage/OneDrive-SAPSE/teched/engineering_academy/aicore/.venv/lib/python3.12/site-packages/ai_api_client_sdk/helpers/rest_client.py:157\u001b[0m, in \u001b[0;36mRestClient.post\u001b[0;34m(self, path, body, headers, resource_group)\u001b[0m\n\u001b[1;32m    131\u001b[0m \u001b[38;5;28;01mdef\u001b[39;00m \u001b[38;5;21mpost\u001b[39m(\u001b[38;5;28mself\u001b[39m, path: \u001b[38;5;28mstr\u001b[39m, body: Dict[\u001b[38;5;28mstr\u001b[39m, Union[\u001b[38;5;28mstr\u001b[39m, \u001b[38;5;28mdict\u001b[39m]] \u001b[38;5;241m=\u001b[39m \u001b[38;5;28;01mNone\u001b[39;00m, headers: Dict[\u001b[38;5;28mstr\u001b[39m, \u001b[38;5;28mstr\u001b[39m] \u001b[38;5;241m=\u001b[39m \u001b[38;5;28;01mNone\u001b[39;00m,\n\u001b[1;32m    132\u001b[0m          resource_group: \u001b[38;5;28mstr\u001b[39m \u001b[38;5;241m=\u001b[39m \u001b[38;5;28;01mNone\u001b[39;00m) \u001b[38;5;241m-\u001b[39m\u001b[38;5;241m>\u001b[39m \u001b[38;5;28mdict\u001b[39m:\n\u001b[1;32m    133\u001b[0m \u001b[38;5;250m    \u001b[39m\u001b[38;5;124;03m\"\"\"Sends a POST request to the server.\u001b[39;00m\n\u001b[1;32m    134\u001b[0m \n\u001b[1;32m    135\u001b[0m \u001b[38;5;124;03m    :param path: path of the endpoint the request should be sent to\u001b[39;00m\n\u001b[0;32m   (...)\u001b[0m\n\u001b[1;32m    155\u001b[0m \u001b[38;5;124;03m    :rtype: dict\u001b[39;00m\n\u001b[1;32m    156\u001b[0m \u001b[38;5;124;03m    \"\"\"\u001b[39;00m\n\u001b[0;32m--> 157\u001b[0m     \u001b[38;5;28;01mreturn\u001b[39;00m \u001b[38;5;28;43mself\u001b[39;49m\u001b[38;5;241;43m.\u001b[39;49m\u001b[43m_handle_request\u001b[49m\u001b[43m(\u001b[49m\u001b[38;5;124;43m'\u001b[39;49m\u001b[38;5;124;43mpost\u001b[39;49m\u001b[38;5;124;43m'\u001b[39;49m\u001b[43m,\u001b[49m\u001b[43m \u001b[49m\u001b[43mpath\u001b[49m\u001b[38;5;241;43m=\u001b[39;49m\u001b[43mpath\u001b[49m\u001b[43m,\u001b[49m\u001b[43m \u001b[49m\u001b[43mbody_json\u001b[49m\u001b[38;5;241;43m=\u001b[39;49m\u001b[43mbody\u001b[49m\u001b[43m,\u001b[49m\u001b[43m \u001b[49m\u001b[43mheaders\u001b[49m\u001b[38;5;241;43m=\u001b[39;49m\u001b[43mheaders\u001b[49m\u001b[43m,\u001b[49m\u001b[43m \u001b[49m\u001b[43mresource_group\u001b[49m\u001b[38;5;241;43m=\u001b[39;49m\u001b[43mresource_group\u001b[49m\u001b[43m)\u001b[49m\n",
      "File \u001b[0;32m~/Library/CloudStorage/OneDrive-SAPSE/teched/engineering_academy/aicore/.venv/lib/python3.12/site-packages/ai_api_client_sdk/helpers/rest_client.py:103\u001b[0m, in \u001b[0;36mRestClient._handle_request\u001b[0;34m(self, method, path, params, body_json, headers, resource_group)\u001b[0m\n\u001b[1;32m    100\u001b[0m     response_json \u001b[38;5;241m=\u001b[39m response\u001b[38;5;241m.\u001b[39mtext\n\u001b[1;32m    102\u001b[0m \u001b[38;5;28;01mif\u001b[39;00m \u001b[38;5;28mtype\u001b[39m(response_json) \u001b[38;5;129;01mis\u001b[39;00m \u001b[38;5;28mdict\u001b[39m \u001b[38;5;129;01mand\u001b[39;00m \u001b[38;5;124m'\u001b[39m\u001b[38;5;124merror\u001b[39m\u001b[38;5;124m'\u001b[39m \u001b[38;5;129;01min\u001b[39;00m response_json:\n\u001b[0;32m--> 103\u001b[0m     \u001b[38;5;28;43mself\u001b[39;49m\u001b[38;5;241;43m.\u001b[39;49m\u001b[43mraise_ai_api_exception\u001b[49m\u001b[43m(\u001b[49m\u001b[43merror_description\u001b[49m\u001b[43m,\u001b[49m\u001b[43m \u001b[49m\u001b[43mresponse\u001b[49m\u001b[43m,\u001b[49m\u001b[43m \u001b[49m\u001b[43mresponse_json\u001b[49m\u001b[43m)\u001b[49m\n\u001b[1;32m    104\u001b[0m \u001b[38;5;28;01melif\u001b[39;00m response\u001b[38;5;241m.\u001b[39mstatus_code \u001b[38;5;241m/\u001b[39m\u001b[38;5;241m/\u001b[39m \u001b[38;5;241m100\u001b[39m \u001b[38;5;241m!=\u001b[39m \u001b[38;5;241m2\u001b[39m:\n\u001b[1;32m    105\u001b[0m     \u001b[38;5;28;01mraise\u001b[39;00m AIAPIServerException(description\u001b[38;5;241m=\u001b[39merror_description, error_message\u001b[38;5;241m=\u001b[39mresponse\u001b[38;5;241m.\u001b[39mtext,\n\u001b[1;32m    106\u001b[0m                                status_code\u001b[38;5;241m=\u001b[39mresponse\u001b[38;5;241m.\u001b[39mstatus_code)\n",
      "File \u001b[0;32m~/Library/CloudStorage/OneDrive-SAPSE/teched/engineering_academy/aicore/.venv/lib/python3.12/site-packages/ai_api_client_sdk/helpers/rest_client.py:117\u001b[0m, in \u001b[0;36mRestClient.raise_ai_api_exception\u001b[0;34m(error_description, response, response_json)\u001b[0m\n\u001b[1;32m    115\u001b[0m error_details \u001b[38;5;241m=\u001b[39m response_json[\u001b[38;5;124m'\u001b[39m\u001b[38;5;124merror\u001b[39m\u001b[38;5;124m'\u001b[39m]\u001b[38;5;241m.\u001b[39mget(\u001b[38;5;124m'\u001b[39m\u001b[38;5;124mdetails\u001b[39m\u001b[38;5;124m'\u001b[39m)\n\u001b[1;32m    116\u001b[0m \u001b[38;5;28;01mif\u001b[39;00m status_code \u001b[38;5;241m==\u001b[39m \u001b[38;5;241m400\u001b[39m:\n\u001b[0;32m--> 117\u001b[0m     \u001b[38;5;28;01mraise\u001b[39;00m AIAPIInvalidRequestException(description\u001b[38;5;241m=\u001b[39merror_description, error_message\u001b[38;5;241m=\u001b[39merror_message,\n\u001b[1;32m    118\u001b[0m                                        error_code\u001b[38;5;241m=\u001b[39merror_code, request_id\u001b[38;5;241m=\u001b[39mrequest_id, details\u001b[38;5;241m=\u001b[39merror_details)\n\u001b[1;32m    119\u001b[0m \u001b[38;5;28;01melif\u001b[39;00m status_code \u001b[38;5;241m==\u001b[39m \u001b[38;5;241m404\u001b[39m:\n\u001b[1;32m    120\u001b[0m     \u001b[38;5;28;01mraise\u001b[39;00m AIAPINotFoundException(description\u001b[38;5;241m=\u001b[39merror_description, error_message\u001b[38;5;241m=\u001b[39merror_message,\n\u001b[1;32m    121\u001b[0m                                  error_code\u001b[38;5;241m=\u001b[39merror_code, request_id\u001b[38;5;241m=\u001b[39mrequest_id, details\u001b[38;5;241m=\u001b[39merror_details)\n",
      "\u001b[0;31mAIAPIInvalidRequestException\u001b[0m: Failed to post /artifacts: Invalid Request, Could not create Artifact due to invalid Scenario ID train-demo. Please check the Scenario ID. \n Status Code: 400, Request ID:c9bbe234-0e4c-4375-8f26-bea88db9717f"
     ]
    }
   ],
   "source": [
    "# Create Artifact\n",
    "from ai_api_client_sdk.models.artifact import Artifact\n",
    "\n",
    "response = ai_core_client.artifact.create(\n",
    "    name = \"pose_training_data\", # Custom Non-unqiue identifier\n",
    "    kind = Artifact.Kind.DATASET,\n",
    "    url = \"ai://s3-secret/\", #\n",
    "    scenario_id = \"train-demo\",\n",
    "    description = \"Pose embedding data\",\n",
    "    resource_group = \"default\" # required to restrict object store secret usage within a resource group\n",
    ")\n",
    "\n",
    "artifact = response.__dict__\n",
    "artifact"
   ]
  },
  {
   "cell_type": "markdown",
   "id": "55470b8c-f268-4e98-a73b-66e7be32277c",
   "metadata": {},
   "source": [
    "## Step 10\n",
    "\n",
    "Define your workflow using [Argo](https://argo-workflows.readthedocs.io/en/latest/workflow-templates/) workflow templates. This is defined at `train_pipeline.yaml`.\n"
   ]
  },
  {
   "cell_type": "markdown",
   "id": "f2420023-c0f6-49cd-8026-e9059ac8beee",
   "metadata": {},
   "source": [
    "## Step 11\n",
    "\n",
    "Check the sync status of your workflow. You should see a successful sync in the response."
   ]
  },
  {
   "cell_type": "code",
   "execution_count": null,
   "id": "cb74c25d-b2b1-4fa1-9f8f-2a98ff153150",
   "metadata": {},
   "outputs": [],
   "source": [
    "print(ai_core_client.applications.refresh(application_name='training-app').message)\n",
    "# Get application status\n",
    "response = ai_core_client.applications.get_status(application_name='training-app')\n",
    "print(response.message)\n",
    "\n",
    "for sync_status in response.sync_ressources_status:\n",
    "    print(sync_status.__dict__)"
   ]
  },
  {
   "cell_type": "markdown",
   "id": "84cf2eed",
   "metadata": {},
   "source": [
    "## Step 12\n",
    "\n",
    "Ensure you can see the executable defined in the workflow template for this scenario."
   ]
  },
  {
   "cell_type": "code",
   "execution_count": 17,
   "id": "339494e0-cf2c-4626-a2ca-60af28afc105",
   "metadata": {},
   "outputs": [],
   "source": [
    "# List available executables\n",
    "response = ai_core_client.executable.query(\n",
    "    scenario_id = \"train-demo\", resource_group='default'\n",
    ")\n",
    "\n",
    "for executable in response.resources:\n",
    "    print(executable.__dict__)\n"
   ]
  },
  {
   "cell_type": "markdown",
   "id": "3d2adf98",
   "metadata": {},
   "source": [
    "## Step 13\n",
    "\n",
    "Create a configuration for the training workflow."
   ]
  },
  {
   "cell_type": "code",
   "execution_count": 18,
   "id": "f3e7f0eb-05d4-4c61-893b-567ab4db6b57",
   "metadata": {},
   "outputs": [
    {
     "ename": "NameError",
     "evalue": "name 'artifact' is not defined",
     "output_type": "error",
     "traceback": [
      "\u001b[0;31m---------------------------------------------------------------------------\u001b[0m",
      "\u001b[0;31mNameError\u001b[0m                                 Traceback (most recent call last)",
      "Cell \u001b[0;32mIn[18], line 16\u001b[0m\n\u001b[1;32m      2\u001b[0m \u001b[38;5;28;01mfrom\u001b[39;00m \u001b[38;5;21;01mai_api_client_sdk\u001b[39;00m\u001b[38;5;21;01m.\u001b[39;00m\u001b[38;5;21;01mmodels\u001b[39;00m\u001b[38;5;21;01m.\u001b[39;00m\u001b[38;5;21;01mbase_models\u001b[39;00m \u001b[38;5;28;01mimport\u001b[39;00m KeyValue\n\u001b[1;32m      3\u001b[0m \u001b[38;5;28;01mfrom\u001b[39;00m \u001b[38;5;21;01mai_api_client_sdk\u001b[39;00m\u001b[38;5;21;01m.\u001b[39;00m\u001b[38;5;21;01mmodels\u001b[39;00m\u001b[38;5;21;01m.\u001b[39;00m\u001b[38;5;21;01minput_artifact_binding\u001b[39;00m \u001b[38;5;28;01mimport\u001b[39;00m InputArtifactBinding\n\u001b[1;32m      5\u001b[0m response \u001b[38;5;241m=\u001b[39m ai_core_client\u001b[38;5;241m.\u001b[39mconfiguration\u001b[38;5;241m.\u001b[39mcreate(\n\u001b[1;32m      6\u001b[0m     name \u001b[38;5;241m=\u001b[39m \u001b[38;5;124m\"\u001b[39m\u001b[38;5;124mpose-detection-training-configuration\u001b[39m\u001b[38;5;124m\"\u001b[39m,\n\u001b[1;32m      7\u001b[0m     scenario_id \u001b[38;5;241m=\u001b[39m \u001b[38;5;124m\"\u001b[39m\u001b[38;5;124mtrain-demo\u001b[39m\u001b[38;5;124m\"\u001b[39m,\n\u001b[1;32m      8\u001b[0m     executable_id \u001b[38;5;241m=\u001b[39m \u001b[38;5;124m\"\u001b[39m\u001b[38;5;124maicore-train-pipeline\u001b[39m\u001b[38;5;124m\"\u001b[39m,\n\u001b[1;32m      9\u001b[0m     resource_group \u001b[38;5;241m=\u001b[39m \u001b[38;5;124m\"\u001b[39m\u001b[38;5;124mdefault\u001b[39m\u001b[38;5;124m\"\u001b[39m,\n\u001b[1;32m     10\u001b[0m     parameter_bindings\u001b[38;5;241m=\u001b[39m[KeyValue(\u001b[38;5;124m'\u001b[39m\u001b[38;5;124mDL_BATCH_SIZE\u001b[39m\u001b[38;5;124m'\u001b[39m, \u001b[38;5;124m'\u001b[39m\u001b[38;5;124m32\u001b[39m\u001b[38;5;124m'\u001b[39m),\n\u001b[1;32m     11\u001b[0m                         KeyValue(\u001b[38;5;124m'\u001b[39m\u001b[38;5;124mACTIVATION\u001b[39m\u001b[38;5;124m'\u001b[39m, \u001b[38;5;124m'\u001b[39m\u001b[38;5;124mtanh\u001b[39m\u001b[38;5;124m'\u001b[39m),\n\u001b[1;32m     12\u001b[0m                         KeyValue(\u001b[38;5;124m'\u001b[39m\u001b[38;5;124mDROPOUT\u001b[39m\u001b[38;5;124m'\u001b[39m, \u001b[38;5;124m'\u001b[39m\u001b[38;5;124m0.95024310853758\u001b[39m\u001b[38;5;124m'\u001b[39m),\n\u001b[1;32m     13\u001b[0m                         KeyValue(\u001b[38;5;124m'\u001b[39m\u001b[38;5;124mLR\u001b[39m\u001b[38;5;124m'\u001b[39m, \u001b[38;5;124m'\u001b[39m\u001b[38;5;124m0.01\u001b[39m\u001b[38;5;124m'\u001b[39m),\n\u001b[1;32m     14\u001b[0m                         KeyValue(\u001b[38;5;124m'\u001b[39m\u001b[38;5;124mOPTIMIZER\u001b[39m\u001b[38;5;124m'\u001b[39m, \u001b[38;5;124m'\u001b[39m\u001b[38;5;124madam\u001b[39m\u001b[38;5;124m'\u001b[39m),\n\u001b[1;32m     15\u001b[0m                         KeyValue(\u001b[38;5;124m'\u001b[39m\u001b[38;5;124mEPOCHS\u001b[39m\u001b[38;5;124m'\u001b[39m, \u001b[38;5;124m'\u001b[39m\u001b[38;5;124m10\u001b[39m\u001b[38;5;124m'\u001b[39m)],\n\u001b[0;32m---> 16\u001b[0m     input_artifact_bindings\u001b[38;5;241m=\u001b[39m[InputArtifactBinding(\u001b[38;5;124m'\u001b[39m\u001b[38;5;124mpose_dataset\u001b[39m\u001b[38;5;124m'\u001b[39m, \u001b[43martifact\u001b[49m[\u001b[38;5;124m'\u001b[39m\u001b[38;5;124mid\u001b[39m\u001b[38;5;124m'\u001b[39m])]\n\u001b[1;32m     17\u001b[0m                 \n\u001b[1;32m     18\u001b[0m )\n\u001b[1;32m     19\u001b[0m configuration \u001b[38;5;241m=\u001b[39m response\u001b[38;5;241m.\u001b[39m\u001b[38;5;18m__dict__\u001b[39m\n\u001b[1;32m     20\u001b[0m configuration\n",
      "\u001b[0;31mNameError\u001b[0m: name 'artifact' is not defined"
     ]
    }
   ],
   "source": [
    "# Create configuration\n",
    "from ai_api_client_sdk.models.base_models import KeyValue\n",
    "from ai_api_client_sdk.models.input_artifact_binding import InputArtifactBinding\n",
    "\n",
    "response = ai_core_client.configuration.create(\n",
    "    name = \"pose-detection-training-configuration\",\n",
    "    scenario_id = \"train-demo\",\n",
    "    executable_id = \"aicore-train-pipeline\",\n",
    "    resource_group = \"default\",\n",
    "    parameter_bindings=[KeyValue('DL_BATCH_SIZE', '32'),\n",
    "                        KeyValue('ACTIVATION', 'tanh'),\n",
    "                        KeyValue('DROPOUT', '0.95024310853758'),\n",
    "                        KeyValue('LR', '0.01'),\n",
    "                        KeyValue('OPTIMIZER', 'adam'),\n",
    "                        KeyValue('EPOCHS', '10')],\n",
    "    input_artifact_bindings=[InputArtifactBinding('pose_dataset', artifact['id'])]\n",
    "                \n",
    ")\n",
    "configuration = response.__dict__\n",
    "configuration\n"
   ]
  },
  {
   "cell_type": "markdown",
   "id": "0deb4f90",
   "metadata": {},
   "source": [
    "## Step 14\n",
    "\n",
    "Create a an execution of the training workflow using the above created configuration."
   ]
  },
  {
   "cell_type": "code",
   "execution_count": null,
   "id": "1d4d2745-429a-47e1-bd7b-d402e406c8fe",
   "metadata": {},
   "outputs": [],
   "source": [
    "# Create and start execution\n",
    "response = ai_core_client.execution.create(\n",
    "    configuration_id = configuration['id'],\n",
    "    resource_group = 'default'\n",
    ")\n",
    "\n",
    "execution = response.__dict__\n",
    "execution"
   ]
  },
  {
   "cell_type": "code",
   "execution_count": null,
   "id": "e454dfc6-f733-4c72-9883-bbd3f47a7ca2",
   "metadata": {},
   "outputs": [],
   "source": [
    "# Get execution status from SAP AI Core\n",
    "# execute this multiple times in interval of 30 seconds\n",
    "response = ai_core_client.execution.get(\n",
    "    execution_id = execution['id'], # Change this\n",
    "    resource_group = 'default'\n",
    ")\n",
    "\n",
    "response.__dict__\n"
   ]
  },
  {
   "cell_type": "code",
   "execution_count": null,
   "id": "c2a4d7ae-8211-4926-8968-0d1d98414826",
   "metadata": {},
   "outputs": [],
   "source": [
    "# Get Execution Logs\n",
    "response = ai_core_client.execution.query_logs(\n",
    "    execution_id = execution['id'],\n",
    "    resource_group = 'default'\n",
    ")\n",
    "\n",
    "for log in response.data.result:\n",
    "    print(log.__dict__)\n"
   ]
  },
  {
   "cell_type": "markdown",
   "id": "8fbac002",
   "metadata": {},
   "source": [
    "## Step 15\n",
    "\n",
    "Run multiple executions for hyperparameter tuning."
   ]
  },
  {
   "cell_type": "code",
   "execution_count": 51,
   "id": "95ed5024",
   "metadata": {},
   "outputs": [],
   "source": [
    "def run_execution(bs, act, dropout, lr, opt, epochs=500):\n",
    "    config = ai_core_client.configuration.create(\n",
    "        name = \"pose-detection-training-configuration\",\n",
    "        scenario_id = \"train-demo\",\n",
    "        executable_id = \"aicore-train-pipeline\",\n",
    "        resource_group = \"default\",\n",
    "        parameter_bindings=[KeyValue('DL_BATCH_SIZE', str(bs)),\n",
    "                            KeyValue('ACTIVATION', str(act)),\n",
    "                            KeyValue('DROPOUT', str(dropout)),\n",
    "                            KeyValue('LR', str(lr)),\n",
    "                            KeyValue('OPTIMIZER', opt),\n",
    "                            KeyValue('EPOCHS', str(epochs))],\n",
    "        input_artifact_bindings=[InputArtifactBinding('pose_dataset', artifact['id'])]                   \n",
    "    ).__dict__\n",
    "\n",
    "    execution = ai_core_client.execution.create(\n",
    "        configuration_id = config['id'],\n",
    "        resource_group = 'default'\n",
    "    ).__dict__\n",
    "\n",
    "    return execution['id']"
   ]
  },
  {
   "cell_type": "code",
   "execution_count": null,
   "id": "3cc073f2",
   "metadata": {},
   "outputs": [],
   "source": [
    "batch_sizes = [16, 32, 64, 128, 256]\n",
    "lrs = [0.01, 0.005, 0.001, 0.0005, 0.0001]\n",
    "dropouts = [0, 0.25, 0.5, 0.95, 1]\n",
    "opts = ['adam', 'sgd']\n",
    "acts = ['sigmoid', 'relu', 'tanh']\n",
    "\n",
    "ex_ids = []\n",
    "for bs in batch_sizes:\n",
    "    for lr in lrs:\n",
    "        for dropout in dropouts:\n",
    "            for opt in opts:\n",
    "                for act in acts:\n",
    "                    ex_ids.append(run_execution(bs, act, dropout, lr, opt))"
   ]
  }
 ],
 "metadata": {
  "kernelspec": {
   "display_name": "Python 3 (ipykernel)",
   "language": "python",
   "name": "python3"
  },
  "language_info": {
   "codemirror_mode": {
    "name": "ipython",
    "version": 3
   },
   "file_extension": ".py",
   "mimetype": "text/x-python",
   "name": "python",
   "nbconvert_exporter": "python",
   "pygments_lexer": "ipython3",
   "version": "3.12.3"
  }
 },
 "nbformat": 4,
 "nbformat_minor": 5
}
