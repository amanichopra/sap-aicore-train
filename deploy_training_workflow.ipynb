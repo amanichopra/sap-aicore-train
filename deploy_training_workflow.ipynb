{
 "cells": [
  {
   "cell_type": "markdown",
   "id": "9579c95c-5199-4f75-97e4-442629c12926",
   "metadata": {},
   "source": [
    "# Use SAP AI Core to Train a Pose Estimation Nueral Network"
   ]
  },
  {
   "cell_type": "markdown",
   "id": "64056b4b-f92d-4d4e-8d52-10ab16632a7d",
   "metadata": {},
   "source": [
    "\n",
    "## Step 1\n",
    "\n",
    "Create a connection with AI Core. Use the `aicore_creds.json` provided to you and place it in the project working directory."
   ]
  },
  {
   "cell_type": "code",
   "execution_count": 3,
   "id": "d9068416",
   "metadata": {},
   "outputs": [],
   "source": [
    "import os\n",
    "import json\n",
    "\n",
    "with open('aicore_creds.json') as f:\n",
    "    ac_creds = json.load(f)\n",
    "    \n",
    "os.environ[\"AICORE_AUTH_URL\"] = f\"{ac_creds['url']}/oauth/token\"\n",
    "os.environ[\"AICORE_BASE_URL\"] = ac_creds['serviceurls']['AI_API_URL']\n",
    "os.environ[\"AICORE_CLIENT_ID\"] = ac_creds['clientid']\n",
    "os.environ[\"AICORE_CLIENT_SECRET\"] = ac_creds['clientsecret']\n",
    "os.environ[\"AICORE_RESOURCE_GROUP\"] = \"default\""
   ]
  },
  {
   "cell_type": "code",
   "execution_count": 4,
   "id": "4ce8675a-2d8e-4537-8d9f-6f26dacae72c",
   "metadata": {},
   "outputs": [],
   "source": [
    "# Load Library\n",
    "from ai_core_sdk.ai_core_v2_client import AICoreV2Client\n",
    "\n",
    "# Create Connection\n",
    "ai_core_client = AICoreV2Client(\n",
    "    base_url = os.environ[\"AICORE_BASE_URL\"] + \"/v2\", # The present SAP AI Core API version is 2\n",
    "    auth_url=  os.environ[\"AICORE_AUTH_URL\"], \n",
    "    client_id = os.environ[\"AICORE_CLIENT_ID\"],\n",
    "    client_secret = os.environ[\"AICORE_CLIENT_SECRET\"]\n",
    ")\n",
    "# no output is expected"
   ]
  },
  {
   "cell_type": "markdown",
   "id": "28e3e6a8-b9c3-4513-888d-464ba8d654c5",
   "metadata": {},
   "source": [
    "## Step 2\n",
    "\n",
    "Create a Docker account and generate a personal access token. Refer to [this](https://developers.sap.com/tutorials/ai-core-code.html#cf7b33ab-c455-47ee-a812-33a1ff587cf0) tutorial for steps. Also install Docker Desktop [here](https://www.docker.com/products/docker-desktop/)."
   ]
  },
  {
   "cell_type": "markdown",
   "id": "8a769079-c897-46fc-8c4b-b51c8ff33ce2",
   "metadata": {},
   "source": [
    "## Step 3\n",
    "\n",
    "Write the training code. You can find this is `train_movenet.py`, `model_utils.py`, and `preprocessing_utils.py`."
   ]
  },
  {
   "cell_type": "markdown",
   "id": "b95d7111-a60e-426f-b9b0-47e66bc70966",
   "metadata": {},
   "source": [
    "## Step 4\n",
    "\n",
    "Define a `Dockerfile` and ensure it successfully builds using the make target `deploy-container-service-local`. Then connect Docker to your account via `docker login docker.io`. Now upload the image to the cloud using the make target `push-docker-image`."
   ]
  },
  {
   "cell_type": "markdown",
   "id": "dcdf0093",
   "metadata": {},
   "source": [
    "## Step 5\n",
    "\n",
    "Store your Docker credentials in SAP AI Core as a Docker registry secret."
   ]
  },
  {
   "cell_type": "code",
   "execution_count": 28,
   "id": "143c710f",
   "metadata": {},
   "outputs": [],
   "source": [
    "with open('docker_creds.json') as f:\n",
    "    docker_creds = json.load(f)"
   ]
  },
  {
   "cell_type": "code",
   "execution_count": null,
   "id": "c3a1b897",
   "metadata": {},
   "outputs": [],
   "source": [
    "response = ai_core_client.docker_registry_secrets.create(\n",
    "    name = \"docker-secret\",\n",
    "    data = {\n",
    "        \".dockerconfigjson\": f'{{\\\"auths\\\":{{\\\"docker.io/amanichopra/aicore-train:tagname\\\":{{\\\"username\\\":\\\"amanichopra\\\",\\\"password\\\":\\\"{docker_creds[\"pat\"]}\\\"}}}}}}'\n",
    "    }\n",
    ")\n",
    "\n",
    "print(response.__dict__)"
   ]
  },
  {
   "cell_type": "markdown",
   "id": "6a92a7b9",
   "metadata": {},
   "source": [
    "## Step 6\n",
    "\n",
    "You need to onboard your Github Repo to AI Core."
   ]
  },
  {
   "cell_type": "code",
   "execution_count": 19,
   "id": "288fe9e7",
   "metadata": {},
   "outputs": [],
   "source": [
    "with open('gh_creds.json') as f:\n",
    "    gh_creds = json.load(f)"
   ]
  },
  {
   "cell_type": "code",
   "execution_count": null,
   "id": "8b7e372a",
   "metadata": {},
   "outputs": [],
   "source": [
    "# on-board new GitHub repository\n",
    "ai_core_client.repositories.create(\n",
    "    name = \"gh-repo\",\n",
    "    url = \"https://github.com/amanichopra/sap-aicore-train.git\",\n",
    "    username = \"amanichopra\",\n",
    "    password = gh_creds['pat']\n",
    ")"
   ]
  },
  {
   "cell_type": "code",
   "execution_count": null,
   "id": "2ac5cc17",
   "metadata": {},
   "outputs": [],
   "source": [
    "# check on-boarding status\n",
    "response = ai_core_client.repositories.query()\n",
    "#\n",
    "for repository in response.resources:\n",
    "#    print('Name:', repository.name)\n",
    "    print('URL:', repository.url)\n",
    "    print('Status:', repository.status)"
   ]
  },
  {
   "cell_type": "markdown",
   "id": "c78e9448",
   "metadata": {},
   "source": [
    "## Step 7\n",
    "\n",
    "Create an application to sync the training workflow with AI Core."
   ]
  },
  {
   "cell_type": "code",
   "execution_count": null,
   "id": "f68124a5",
   "metadata": {},
   "outputs": [],
   "source": [
    "ai_core_client.applications.create(\n",
    "    application_name = \"training-app\",\n",
    "    repository_url = \"https://github.com/amanichopra/sap-aicore-train.git\",\n",
    "    path = \"./\",\n",
    "    revision = \"HEAD\"\n",
    ")"
   ]
  },
  {
   "cell_type": "code",
   "execution_count": null,
   "id": "d0d33271",
   "metadata": {},
   "outputs": [],
   "source": [
    "response = ai_core_client.applications.query()\n",
    "\n",
    "for app in response.resources:\n",
    "    print(app.__dict__)"
   ]
  },
  {
   "cell_type": "markdown",
   "id": "795c462b",
   "metadata": {},
   "source": [
    "## Step 8\n",
    "\n",
    "Store S3 object store secrets in AI Core."
   ]
  },
  {
   "cell_type": "code",
   "execution_count": 25,
   "id": "d0abf6f6",
   "metadata": {},
   "outputs": [],
   "source": [
    "with open('s3_creds.json') as f:\n",
    "    s3_creds = json.load(f)"
   ]
  },
  {
   "cell_type": "code",
   "execution_count": null,
   "id": "56cdf72e",
   "metadata": {},
   "outputs": [],
   "source": [
    "# Create object Store secret\n",
    "response = ai_core_client.object_store_secrets.create(\n",
    "    name = \"s3-secret\", # identifier for this secret within your SAP AI Core\n",
    "    path_prefix = \"data\", # path that we want to limit restrict this secret access to\n",
    "    type = \"S3\",\n",
    "    data = { # Dictionary of credentials of AWS\n",
    "        \"AWS_ACCESS_KEY_ID\": s3_creds['access_key_id'],\n",
    "        \"AWS_SECRET_ACCESS_KEY\": s3_creds['secret_access_key']\n",
    "    },\n",
    "    bucket = \"hcp-c1a2d095-b523-400a-bf19-94eda5e8d109\", # Edit this\n",
    "    region = \"eu-central-1\", # Edit this\n",
    "    endpoint = \"s3-eu-central-1.amazonaws.com\", # Edit this\n",
    "    resource_group = \"default\" # object store secret are restricted within this resource group. you may change this when creating secret for another resource group.\n",
    ")\n",
    "print(response.__dict__)"
   ]
  },
  {
   "cell_type": "code",
   "execution_count": null,
   "id": "a9e7a8a4",
   "metadata": {},
   "outputs": [],
   "source": [
    "# Create object Store secret\n",
    "response = ai_core_client.object_store_secrets.create(\n",
    "    name = \"default\", # identifier for this secret within your SAP AI Core\n",
    "    path_prefix = \"model\", # path that we want to limit restrict this secret access to\n",
    "    type = \"S3\",\n",
    "    data = { # Dictionary of credentials of AWS\n",
    "        \"AWS_ACCESS_KEY_ID\": s3_creds['access_key_id'],\n",
    "        \"AWS_SECRET_ACCESS_KEY\": s3_creds['secret_access_key']\n",
    "    },\n",
    "    bucket = s3_creds['bucket'], # Edit this\n",
    "    region = s3_creds['region'], # Edit this\n",
    "    endpoint = s3_creds['host'], # Edit this\n",
    "    resource_group = \"default\" # object store secret are restricted within this resource group. you may change this when creating secret for another resource group.\n",
    ")\n",
    "print(response.__dict__)"
   ]
  },
  {
   "cell_type": "markdown",
   "id": "f8648deb",
   "metadata": {},
   "source": [
    "## Step 9\n",
    "\n",
    "Register the dataset."
   ]
  },
  {
   "cell_type": "code",
   "execution_count": null,
   "id": "58ed05a4",
   "metadata": {},
   "outputs": [],
   "source": [
    "# Create Artifact\n",
    "from ai_api_client_sdk.models.artifact import Artifact\n",
    "\n",
    "response = ai_core_client.artifact.create(\n",
    "    name = \"pose_training_data\", # Custom Non-unqiue identifier\n",
    "    kind = Artifact.Kind.DATASET,\n",
    "    url = \"ai://s3-secret/\", #\n",
    "    scenario_id = \"train-demo\",\n",
    "    description = \"Pose embedding data\",\n",
    "    resource_group = \"default\" # required to restrict object store secret usage within a resource group\n",
    ")\n",
    "\n",
    "artifact = response.__dict__\n",
    "artifact"
   ]
  },
  {
   "cell_type": "markdown",
   "id": "55470b8c-f268-4e98-a73b-66e7be32277c",
   "metadata": {},
   "source": [
    "## Step 10\n",
    "\n",
    "Define your workflow using [Argo](https://argo-workflows.readthedocs.io/en/latest/workflow-templates/) workflow templates. This is defined at `train_pipeline.yaml`.\n"
   ]
  },
  {
   "cell_type": "markdown",
   "id": "f2420023-c0f6-49cd-8026-e9059ac8beee",
   "metadata": {},
   "source": [
    "## Step 11\n",
    "\n",
    "Check the sync status of your workflow. You should see a successful sync in the response."
   ]
  },
  {
   "cell_type": "code",
   "execution_count": null,
   "id": "cb74c25d-b2b1-4fa1-9f8f-2a98ff153150",
   "metadata": {},
   "outputs": [],
   "source": [
    "print(ai_core_client.applications.refresh(application_name='training-app').message)\n",
    "# Get application status\n",
    "response = ai_core_client.applications.get_status(application_name='training-app')\n",
    "print(response.message)\n",
    "\n",
    "for sync_status in response.sync_ressources_status:\n",
    "    print(sync_status.__dict__)"
   ]
  },
  {
   "cell_type": "markdown",
   "id": "84cf2eed",
   "metadata": {},
   "source": [
    "## Step 12\n",
    "\n",
    "Ensure you can see the executable defined in the workflow template for this scenario."
   ]
  },
  {
   "cell_type": "code",
   "execution_count": null,
   "id": "339494e0-cf2c-4626-a2ca-60af28afc105",
   "metadata": {},
   "outputs": [],
   "source": [
    "# List available executables\n",
    "response = ai_core_client.executable.query(\n",
    "    scenario_id = \"train-demo\", resource_group='default'\n",
    ")\n",
    "\n",
    "for executable in response.resources:\n",
    "    print(executable.__dict__)\n"
   ]
  },
  {
   "cell_type": "markdown",
   "id": "3d2adf98",
   "metadata": {},
   "source": [
    "## Step 13\n",
    "\n",
    "Create a configuration for the training workflow."
   ]
  },
  {
   "cell_type": "code",
   "execution_count": null,
   "id": "f3e7f0eb-05d4-4c61-893b-567ab4db6b57",
   "metadata": {},
   "outputs": [],
   "source": [
    "# Create configuration\n",
    "from ai_api_client_sdk.models.base_models import KeyValue\n",
    "from ai_api_client_sdk.models.input_artifact_binding import InputArtifactBinding\n",
    "\n",
    "response = ai_core_client.configuration.create(\n",
    "    name = \"pose-detection-training-configuration\",\n",
    "    scenario_id = \"train-demo\",\n",
    "    executable_id = \"aicore-train-pipeline\",\n",
    "    resource_group = \"default\",\n",
    "    parameter_bindings=[KeyValue('DL_BATCH_SIZE', '32'),\n",
    "                        KeyValue('ACTIVATION', 'tanh'),\n",
    "                        KeyValue('DROPOUT', '0.95024310853758'),\n",
    "                        KeyValue('LR', '0.01'),\n",
    "                        KeyValue('OPTIMIZER', 'adam'),\n",
    "                        KeyValue('EPOCHS', '10')],\n",
    "    input_artifact_bindings=[InputArtifactBinding('pose_dataset', artifact['id'])]\n",
    "                \n",
    ")\n",
    "configuration = response.__dict__\n",
    "configuration\n"
   ]
  },
  {
   "cell_type": "markdown",
   "id": "0deb4f90",
   "metadata": {},
   "source": [
    "## Step 14\n",
    "\n",
    "Create a an execution of the training workflow using the above created configuration."
   ]
  },
  {
   "cell_type": "code",
   "execution_count": null,
   "id": "1d4d2745-429a-47e1-bd7b-d402e406c8fe",
   "metadata": {},
   "outputs": [],
   "source": [
    "# Create and start execution\n",
    "response = ai_core_client.execution.create(\n",
    "    configuration_id = configuration['id'],\n",
    "    resource_group = 'default'\n",
    ")\n",
    "\n",
    "execution = response.__dict__\n",
    "execution"
   ]
  },
  {
   "cell_type": "code",
   "execution_count": null,
   "id": "e454dfc6-f733-4c72-9883-bbd3f47a7ca2",
   "metadata": {},
   "outputs": [],
   "source": [
    "# Get execution status from SAP AI Core\n",
    "# execute this multiple times in interval of 30 seconds\n",
    "response = ai_core_client.execution.get(\n",
    "    execution_id = execution['id'], # Change this\n",
    "    resource_group = 'default'\n",
    ")\n",
    "\n",
    "response.__dict__\n"
   ]
  },
  {
   "cell_type": "code",
   "execution_count": null,
   "id": "c2a4d7ae-8211-4926-8968-0d1d98414826",
   "metadata": {},
   "outputs": [],
   "source": [
    "# Get Execution Logs\n",
    "response = ai_core_client.execution.query_logs(\n",
    "    execution_id = execution['id'],\n",
    "    resource_group = 'default'\n",
    ")\n",
    "\n",
    "for log in response.data.result:\n",
    "    print(log.__dict__)\n"
   ]
  },
  {
   "cell_type": "markdown",
   "id": "8fbac002",
   "metadata": {},
   "source": [
    "## Step 15\n",
    "\n",
    "Run multiple executions for hyperparameter tuning."
   ]
  },
  {
   "cell_type": "code",
   "execution_count": 51,
   "id": "95ed5024",
   "metadata": {},
   "outputs": [],
   "source": [
    "def run_execution(bs, act, dropout, lr, opt, epochs=500):\n",
    "    config = ai_core_client.configuration.create(\n",
    "        name = \"pose-detection-training-configuration\",\n",
    "        scenario_id = \"train-demo\",\n",
    "        executable_id = \"aicore-train-pipeline\",\n",
    "        resource_group = \"default\",\n",
    "        parameter_bindings=[KeyValue('DL_BATCH_SIZE', str(bs)),\n",
    "                            KeyValue('ACTIVATION', str(act)),\n",
    "                            KeyValue('DROPOUT', str(dropout)),\n",
    "                            KeyValue('LR', str(lr)),\n",
    "                            KeyValue('OPTIMIZER', opt),\n",
    "                            KeyValue('EPOCHS', str(epochs))],\n",
    "        input_artifact_bindings=[InputArtifactBinding('pose_dataset', artifact['id'])]                   \n",
    "    ).__dict__\n",
    "\n",
    "    execution = ai_core_client.execution.create(\n",
    "        configuration_id = config['id'],\n",
    "        resource_group = 'default'\n",
    "    ).__dict__\n",
    "\n",
    "    return execution['id']"
   ]
  },
  {
   "cell_type": "code",
   "execution_count": null,
   "id": "3cc073f2",
   "metadata": {},
   "outputs": [],
   "source": [
    "batch_sizes = [16, 32, 64, 128, 256]\n",
    "lrs = [0.01, 0.005, 0.001, 0.0005, 0.0001]\n",
    "dropouts = [0, 0.25, 0.5, 0.95, 1]\n",
    "opts = ['adam', 'sgd']\n",
    "acts = ['sigmoid', 'relu', 'tanh']\n",
    "\n",
    "ex_ids = []\n",
    "for bs in batch_sizes:\n",
    "    for lr in lrs:\n",
    "        for dropout in dropouts:\n",
    "            for opt in opts:\n",
    "                for act in acts:\n",
    "                    ex_ids.append(run_execution(bs, act, dropout, lr, opt))"
   ]
  }
 ],
 "metadata": {
  "kernelspec": {
   "display_name": "Python 3 (ipykernel)",
   "language": "python",
   "name": "python3"
  },
  "language_info": {
   "codemirror_mode": {
    "name": "ipython",
    "version": 3
   },
   "file_extension": ".py",
   "mimetype": "text/x-python",
   "name": "python",
   "nbconvert_exporter": "python",
   "pygments_lexer": "ipython3",
   "version": "3.12.3"
  }
 },
 "nbformat": 4,
 "nbformat_minor": 5
}
